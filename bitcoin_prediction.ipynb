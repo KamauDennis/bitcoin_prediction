{
 "cells": [
  {
   "cell_type": "markdown",
   "id": "finite-effort",
   "metadata": {},
   "source": [
    "# Building a Bitcoin prediction model\n",
    "\n",
    "Bitcoin is a decentralized digital currency that can be transferred on the peer-to-peer bitcoin network.Bitcoin transactions are verified by network nodes through cryptography  and recorded in a distributed public ledger called blockchain.As a currency,Bitcoin offers a new opportunity for price forecasting as it has a high volatiliy compared to traditional currencies."
   ]
  },
  {
   "cell_type": "markdown",
   "id": "juvenile-blame",
   "metadata": {},
   "source": [
    "## RNN for Time Series Prediction\n",
    "\n",
    "A recurrent neural network(RNN) are a class of artificial neural network where connection between nodes can create a cycle,allowing outputs from some nodes to affect susequent input to the same node.RNNs performs very well for sequential data such as time series.One serious limitation of RNNs is the inability of capturing long-term dependencies in a sequential data.One way to handle this situation is by using long short-term memory(LSTM) variant of RNN.In this project I will be using LSTM in keras.\n"
   ]
  },
  {
   "cell_type": "code",
   "execution_count": 1,
   "id": "partial-projection",
   "metadata": {},
   "outputs": [],
   "source": [
    "%matplotlib inline\n",
    "import numpy as np\n",
    "import pandas as pd\n",
    "import matplotlib.pyplot as plt\n",
    "import tensorflow as tf\n",
    "from tensorflow import keras\n",
    "import seaborn as sns;sns.set()"
   ]
  },
  {
   "cell_type": "markdown",
   "id": "conditional-identification",
   "metadata": {},
   "source": [
    "## Getting the data\n",
    "\n",
    "Our dataset comes from Yahoo Finance and you can download it from the following link and it into pandas dataframe."
   ]
  },
  {
   "cell_type": "code",
   "execution_count": 2,
   "id": "visible-fisher",
   "metadata": {},
   "outputs": [
    {
     "data": {
      "text/html": [
       "<div>\n",
       "<style scoped>\n",
       "    .dataframe tbody tr th:only-of-type {\n",
       "        vertical-align: middle;\n",
       "    }\n",
       "\n",
       "    .dataframe tbody tr th {\n",
       "        vertical-align: top;\n",
       "    }\n",
       "\n",
       "    .dataframe thead th {\n",
       "        text-align: right;\n",
       "    }\n",
       "</style>\n",
       "<table border=\"1\" class=\"dataframe\">\n",
       "  <thead>\n",
       "    <tr style=\"text-align: right;\">\n",
       "      <th></th>\n",
       "      <th>Date</th>\n",
       "      <th>Open</th>\n",
       "      <th>High</th>\n",
       "      <th>Low</th>\n",
       "      <th>Close</th>\n",
       "      <th>Volume</th>\n",
       "      <th>Market Cap</th>\n",
       "    </tr>\n",
       "  </thead>\n",
       "  <tbody>\n",
       "    <tr>\n",
       "      <th>0</th>\n",
       "      <td>Nov-03-2022</td>\n",
       "      <td>20205.279061</td>\n",
       "      <td>21213.064582</td>\n",
       "      <td>20190.888426</td>\n",
       "      <td>21156.078000</td>\n",
       "      <td>8.613925e+10</td>\n",
       "      <td>3.967502e+11</td>\n",
       "    </tr>\n",
       "    <tr>\n",
       "      <th>1</th>\n",
       "      <td>Nov-02-2022</td>\n",
       "      <td>20150.544415</td>\n",
       "      <td>20376.986635</td>\n",
       "      <td>20063.316500</td>\n",
       "      <td>20208.596507</td>\n",
       "      <td>8.925213e+10</td>\n",
       "      <td>3.882011e+11</td>\n",
       "    </tr>\n",
       "    <tr>\n",
       "      <th>2</th>\n",
       "      <td>Nov-01-2022</td>\n",
       "      <td>20481.979000</td>\n",
       "      <td>20732.027200</td>\n",
       "      <td>20073.875476</td>\n",
       "      <td>20151.523077</td>\n",
       "      <td>6.910492e+10</td>\n",
       "      <td>3.911807e+11</td>\n",
       "    </tr>\n",
       "    <tr>\n",
       "      <th>3</th>\n",
       "      <td>Oct-31-2022</td>\n",
       "      <td>20495.705989</td>\n",
       "      <td>20650.438719</td>\n",
       "      <td>20374.129531</td>\n",
       "      <td>20481.554900</td>\n",
       "      <td>7.508634e+10</td>\n",
       "      <td>3.929801e+11</td>\n",
       "    </tr>\n",
       "    <tr>\n",
       "      <th>4</th>\n",
       "      <td>Oct-30-2022</td>\n",
       "      <td>20620.816100</td>\n",
       "      <td>20806.878800</td>\n",
       "      <td>20290.128636</td>\n",
       "      <td>20504.460228</td>\n",
       "      <td>6.353388e+10</td>\n",
       "      <td>3.930500e+11</td>\n",
       "    </tr>\n",
       "  </tbody>\n",
       "</table>\n",
       "</div>"
      ],
      "text/plain": [
       "          Date          Open          High           Low         Close  \\\n",
       "0  Nov-03-2022  20205.279061  21213.064582  20190.888426  21156.078000   \n",
       "1  Nov-02-2022  20150.544415  20376.986635  20063.316500  20208.596507   \n",
       "2  Nov-01-2022  20481.979000  20732.027200  20073.875476  20151.523077   \n",
       "3  Oct-31-2022  20495.705989  20650.438719  20374.129531  20481.554900   \n",
       "4  Oct-30-2022  20620.816100  20806.878800  20290.128636  20504.460228   \n",
       "\n",
       "         Volume    Market Cap  \n",
       "0  8.613925e+10  3.967502e+11  \n",
       "1  8.925213e+10  3.882011e+11  \n",
       "2  6.910492e+10  3.911807e+11  \n",
       "3  7.508634e+10  3.929801e+11  \n",
       "4  6.353388e+10  3.930500e+11  "
      ]
     },
     "execution_count": 2,
     "metadata": {},
     "output_type": "execute_result"
    }
   ],
   "source": [
    "# Data comes from:\n",
    "# https://finance.yahoo.com/quote/BTC-USD/history?period1=1279314000&period2=1556053200&interval=1d&filter=history&frequency=1d\n",
    "\n",
    "#loading the data\n",
    "bit_df = pd.read_csv(\"/home/dentec/Datasets/bitcoin_2016-11-06_2022-11-05.csv\")\n",
    "bit_df.head()"
   ]
  },
  {
   "cell_type": "code",
   "execution_count": 3,
   "id": "hungarian-validity",
   "metadata": {},
   "outputs": [
    {
     "name": "stdout",
     "output_type": "stream",
     "text": [
      "<class 'pandas.core.frame.DataFrame'>\n",
      "RangeIndex: 2190 entries, 0 to 2189\n",
      "Data columns (total 7 columns):\n",
      " #   Column      Non-Null Count  Dtype  \n",
      "---  ------      --------------  -----  \n",
      " 0   Date        2190 non-null   object \n",
      " 1   Open        2190 non-null   float64\n",
      " 2   High        2190 non-null   float64\n",
      " 3   Low         2190 non-null   float64\n",
      " 4   Close       2190 non-null   float64\n",
      " 5   Volume      2190 non-null   float64\n",
      " 6   Market Cap  2190 non-null   float64\n",
      "dtypes: float64(6), object(1)\n",
      "memory usage: 119.9+ KB\n"
     ]
    }
   ],
   "source": [
    "bit_df.info()"
   ]
  },
  {
   "cell_type": "code",
   "execution_count": 4,
   "id": "controlled-running",
   "metadata": {},
   "outputs": [],
   "source": [
    "#format Date dtype to datetime\n",
    "#set Date as index\n",
    "bit_df[\"Date\"] = pd.to_datetime(bit_df[\"Date\"])\n",
    "df = bit_df.set_index(pd.DatetimeIndex(bit_df[\"Date\"]))"
   ]
  },
  {
   "cell_type": "code",
   "execution_count": 5,
   "id": "hybrid-demographic",
   "metadata": {},
   "outputs": [
    {
     "data": {
      "text/html": [
       "<div>\n",
       "<style scoped>\n",
       "    .dataframe tbody tr th:only-of-type {\n",
       "        vertical-align: middle;\n",
       "    }\n",
       "\n",
       "    .dataframe tbody tr th {\n",
       "        vertical-align: top;\n",
       "    }\n",
       "\n",
       "    .dataframe thead th {\n",
       "        text-align: right;\n",
       "    }\n",
       "</style>\n",
       "<table border=\"1\" class=\"dataframe\">\n",
       "  <thead>\n",
       "    <tr style=\"text-align: right;\">\n",
       "      <th></th>\n",
       "      <th>count</th>\n",
       "      <th>mean</th>\n",
       "      <th>std</th>\n",
       "      <th>min</th>\n",
       "      <th>25%</th>\n",
       "      <th>50%</th>\n",
       "      <th>75%</th>\n",
       "      <th>max</th>\n",
       "    </tr>\n",
       "  </thead>\n",
       "  <tbody>\n",
       "    <tr>\n",
       "      <th>Open</th>\n",
       "      <td>2190.0</td>\n",
       "      <td>1.717956e+04</td>\n",
       "      <td>1.694573e+04</td>\n",
       "      <td>7.020310e+02</td>\n",
       "      <td>6.110666e+03</td>\n",
       "      <td>9.335160e+03</td>\n",
       "      <td>2.369834e+04</td>\n",
       "      <td>6.751092e+04</td>\n",
       "    </tr>\n",
       "    <tr>\n",
       "      <th>High</th>\n",
       "      <td>2190.0</td>\n",
       "      <td>1.762504e+04</td>\n",
       "      <td>1.737947e+04</td>\n",
       "      <td>7.052570e+02</td>\n",
       "      <td>6.257807e+03</td>\n",
       "      <td>9.507722e+03</td>\n",
       "      <td>2.420971e+04</td>\n",
       "      <td>6.876996e+04</td>\n",
       "    </tr>\n",
       "    <tr>\n",
       "      <th>Low</th>\n",
       "      <td>2190.0</td>\n",
       "      <td>1.668950e+04</td>\n",
       "      <td>1.645341e+04</td>\n",
       "      <td>6.873150e+02</td>\n",
       "      <td>5.854975e+03</td>\n",
       "      <td>9.191176e+03</td>\n",
       "      <td>2.306752e+04</td>\n",
       "      <td>6.635893e+04</td>\n",
       "    </tr>\n",
       "    <tr>\n",
       "      <th>Close</th>\n",
       "      <td>2190.0</td>\n",
       "      <td>1.719037e+04</td>\n",
       "      <td>1.694462e+04</td>\n",
       "      <td>7.020870e+02</td>\n",
       "      <td>6.113411e+03</td>\n",
       "      <td>9.336707e+03</td>\n",
       "      <td>2.371033e+04</td>\n",
       "      <td>6.750002e+04</td>\n",
       "    </tr>\n",
       "    <tr>\n",
       "      <th>Volume</th>\n",
       "      <td>2190.0</td>\n",
       "      <td>3.345449e+10</td>\n",
       "      <td>3.649556e+10</td>\n",
       "      <td>5.026624e+07</td>\n",
       "      <td>3.740422e+09</td>\n",
       "      <td>1.897358e+10</td>\n",
       "      <td>5.591834e+10</td>\n",
       "      <td>2.121515e+11</td>\n",
       "    </tr>\n",
       "    <tr>\n",
       "      <th>Market Cap</th>\n",
       "      <td>2190.0</td>\n",
       "      <td>3.179615e+11</td>\n",
       "      <td>3.216273e+11</td>\n",
       "      <td>1.113549e+10</td>\n",
       "      <td>1.047580e+11</td>\n",
       "      <td>1.689851e+11</td>\n",
       "      <td>4.479777e+11</td>\n",
       "      <td>1.273518e+12</td>\n",
       "    </tr>\n",
       "  </tbody>\n",
       "</table>\n",
       "</div>"
      ],
      "text/plain": [
       "             count          mean           std           min           25%  \\\n",
       "Open        2190.0  1.717956e+04  1.694573e+04  7.020310e+02  6.110666e+03   \n",
       "High        2190.0  1.762504e+04  1.737947e+04  7.052570e+02  6.257807e+03   \n",
       "Low         2190.0  1.668950e+04  1.645341e+04  6.873150e+02  5.854975e+03   \n",
       "Close       2190.0  1.719037e+04  1.694462e+04  7.020870e+02  6.113411e+03   \n",
       "Volume      2190.0  3.345449e+10  3.649556e+10  5.026624e+07  3.740422e+09   \n",
       "Market Cap  2190.0  3.179615e+11  3.216273e+11  1.113549e+10  1.047580e+11   \n",
       "\n",
       "                     50%           75%           max  \n",
       "Open        9.335160e+03  2.369834e+04  6.751092e+04  \n",
       "High        9.507722e+03  2.420971e+04  6.876996e+04  \n",
       "Low         9.191176e+03  2.306752e+04  6.635893e+04  \n",
       "Close       9.336707e+03  2.371033e+04  6.750002e+04  \n",
       "Volume      1.897358e+10  5.591834e+10  2.121515e+11  \n",
       "Market Cap  1.689851e+11  4.479777e+11  1.273518e+12  "
      ]
     },
     "execution_count": 5,
     "metadata": {},
     "output_type": "execute_result"
    }
   ],
   "source": [
    "df.describe().transpose()"
   ]
  },
  {
   "cell_type": "code",
   "execution_count": 6,
   "id": "passive-certification",
   "metadata": {},
   "outputs": [
    {
     "data": {
      "text/plain": [
       "Date\n",
       "2022-11-03    21156.078000\n",
       "2022-11-02    20208.596507\n",
       "2022-11-01    20151.523077\n",
       "2022-10-31    20481.554900\n",
       "2022-10-30    20504.460228\n",
       "Name: Close, dtype: float64"
      ]
     },
     "execution_count": 6,
     "metadata": {},
     "output_type": "execute_result"
    }
   ],
   "source": [
    "df_cls = df[\"Close\"]\n",
    "df_cls.head()"
   ]
  },
  {
   "cell_type": "markdown",
   "id": "taken-acrobat",
   "metadata": {},
   "source": [
    "We are interested in predicting the closing price for future dates.Let's plot the data"
   ]
  },
  {
   "cell_type": "code",
   "execution_count": 7,
   "id": "adjacent-socket",
   "metadata": {},
   "outputs": [
    {
     "data": {
      "text/plain": [
       "<AxesSubplot: xlabel='Date'>"
      ]
     },
     "execution_count": 7,
     "metadata": {},
     "output_type": "execute_result"
    },
    {
     "data": {
      "image/png": "[encoded data removed]",
      "text/plain": [
       "<Figure size 432x288 with 1 Axes>"
      ]
     },
     "metadata": {},
     "output_type": "display_data"
    }
   ],
   "source": [
    "df_cls.plot()"
   ]
  },
  {
   "cell_type": "code",
   "execution_count": 8,
   "id": "apart-monaco",
   "metadata": {},
   "outputs": [],
   "source": [
    "#splitting the dataset\n",
    "length_df = len(df_cls)\n",
    "train_fraction = int(0.9 * length_df)\n",
    "train_df = df_cls[:train_fraction]\n",
    "val_df = df_cls[train_fraction:]"
   ]
  },
  {
   "cell_type": "markdown",
   "id": "intensive-sierra",
   "metadata": {},
   "source": [
    "## Normalize the data\n",
    "It is important to scale features before training a neural network.One way of scaling the data is through normalization:subtract the mean and divide by standard deviation of each feature."
   ]
  },
  {
   "cell_type": "code",
   "execution_count": 9,
   "id": "opening-sellers",
   "metadata": {},
   "outputs": [],
   "source": [
    "train_mean = train_df.mean()\n",
    "train_std = train_df.std()\n",
    "\n",
    "train_df = (train_df - train_mean) / train_std\n",
    "val_df = (val_df - train_mean) / train_std"
   ]
  },
  {
   "cell_type": "markdown",
   "id": "composed-cheese",
   "metadata": {},
   "source": [
    "## Windowing\n",
    "When dealing with time series data,the input features are generally represented as a 3D arrays of shape [batch size,time steps,dimensionality],where in our case dimensionality is 1 since we are dealing with univariate time series.\n",
    "Let's create a function that returns a dataset with that shape."
   ]
  },
  {
   "cell_type": "code",
   "execution_count": 10,
   "id": "preliminary-gibraltar",
   "metadata": {},
   "outputs": [],
   "source": [
    "def windowsGenerator(dataset,window_size,shift=1,batch_size=32):\n",
    "    \"\"\"Generates data windows of a given window size\"\"\"\n",
    "    dataset = tf.data.Dataset.from_tensor_slices(dataset)\n",
    "    dataset = dataset.window(window_size+1,shift=shift,drop_remainder=True)\n",
    "    dataset = dataset.flat_map(lambda window: window.batch(window_size+1))\n",
    "    dataset = dataset.map(lambda window: (tf.reshape(window[:-1],[window_size,1]),window[-1:]))\n",
    "    return dataset.batch(batch_size).prefetch(1)"
   ]
  },
  {
   "cell_type": "code",
   "execution_count": 11,
   "id": "fuzzy-discussion",
   "metadata": {},
   "outputs": [
    {
     "name": "stdout",
     "output_type": "stream",
     "text": [
      "input_shape:  (32, 50, 1)\n",
      "target_shape:  (32, 1)\n"
     ]
    }
   ],
   "source": [
    "train_ds = windowsGenerator(train_df,50,shift=1)\n",
    "val_ds = windowsGenerator(val_df,50,shift=1)\n",
    "for X,y in train_ds.take(1):\n",
    "    print(\"input_shape: \",X.numpy().shape)\n",
    "    print(\"target_shape: \",y.numpy().shape)\n",
    "   "
   ]
  },
  {
   "cell_type": "markdown",
   "id": "civic-trail",
   "metadata": {},
   "source": [
    "## Baseline metrics\n",
    "Before using RNNs,it is often a good idea to have a few baseline metrics,or else we may end up thinking that our model works great when in fact it is doing worse than basic models.Let's just use a simple Linear Regression so that each prediction is a linear combination of the values in time series.A Dense layer with no activation set is a linear model."
   ]
  },
  {
   "cell_type": "code",
   "execution_count": 12,
   "id": "korean-jacket",
   "metadata": {},
   "outputs": [],
   "source": [
    "model = keras.models.Sequential([\n",
    "    keras.layers.Flatten(input_shape=[50,1]),\n",
    "    keras.layers.Dense(1)\n",
    "])"
   ]
  },
  {
   "cell_type": "code",
   "execution_count": 13,
   "id": "stable-seven",
   "metadata": {},
   "outputs": [
    {
     "name": "stdout",
     "output_type": "stream",
     "text": [
      "Epoch 1/20\n",
      "61/61 [==============================] - 2s 15ms/step - loss: 0.6964 - mean_absolute_error: 0.6641\n",
      "Epoch 2/20\n",
      "61/61 [==============================] - 0s 5ms/step - loss: 0.2229 - mean_absolute_error: 0.3551\n",
      "Epoch 3/20\n",
      "61/61 [==============================] - 0s 5ms/step - loss: 0.0672 - mean_absolute_error: 0.1954\n",
      "Epoch 4/20\n",
      "61/61 [==============================] - 0s 5ms/step - loss: 0.1829 - mean_absolute_error: 0.3356\n",
      "Epoch 5/20\n",
      "61/61 [==============================] - 0s 5ms/step - loss: 0.4915 - mean_absolute_error: 0.5315\n",
      "Epoch 6/20\n",
      "61/61 [==============================] - 0s 5ms/step - loss: 0.3045 - mean_absolute_error: 0.3980\n",
      "Epoch 7/20\n",
      "61/61 [==============================] - 0s 5ms/step - loss: 0.2957 - mean_absolute_error: 0.4140\n",
      "Epoch 8/20\n",
      "61/61 [==============================] - 0s 6ms/step - loss: 0.3232 - mean_absolute_error: 0.4330\n",
      "Epoch 9/20\n",
      "61/61 [==============================] - 0s 5ms/step - loss: 0.4061 - mean_absolute_error: 0.4862\n",
      "Epoch 10/20\n",
      "61/61 [==============================] - 0s 6ms/step - loss: 0.4012 - mean_absolute_error: 0.4721\n",
      "Epoch 11/20\n",
      "61/61 [==============================] - 0s 6ms/step - loss: 0.4398 - mean_absolute_error: 0.5041\n",
      "Epoch 12/20\n",
      "61/61 [==============================] - 0s 6ms/step - loss: 0.3815 - mean_absolute_error: 0.4636\n",
      "Epoch 13/20\n",
      "61/61 [==============================] - 0s 5ms/step - loss: 0.4288 - mean_absolute_error: 0.4975\n",
      "Epoch 14/20\n",
      "61/61 [==============================] - 0s 6ms/step - loss: 0.3601 - mean_absolute_error: 0.4529\n",
      "Epoch 15/20\n",
      "61/61 [==============================] - 0s 6ms/step - loss: 0.4141 - mean_absolute_error: 0.4894\n",
      "Epoch 16/20\n",
      "61/61 [==============================] - 0s 6ms/step - loss: 0.3475 - mean_absolute_error: 0.4459\n",
      "Epoch 17/20\n",
      "61/61 [==============================] - 0s 5ms/step - loss: 0.4046 - mean_absolute_error: 0.4844\n",
      "Epoch 18/20\n",
      "61/61 [==============================] - 0s 6ms/step - loss: 0.3443 - mean_absolute_error: 0.4439\n",
      "Epoch 19/20\n",
      "61/61 [==============================] - 0s 6ms/step - loss: 0.4034 - mean_absolute_error: 0.4842\n",
      "Epoch 20/20\n",
      "61/61 [==============================] - 0s 6ms/step - loss: 0.3478 - mean_absolute_error: 0.4460\n"
     ]
    },
    {
     "data": {
      "text/plain": [
       "<keras.callbacks.History at 0x7f9cd5956700>"
      ]
     },
     "execution_count": 13,
     "metadata": {},
     "output_type": "execute_result"
    }
   ],
   "source": [
    "model.compile(loss='mse',optimizer=keras.optimizers.Adam(learning_rate=0.1),metrics=[keras.metrics.MeanAbsoluteError()])\n",
    "model.fit(train_ds,epochs=20)"
   ]
  },
  {
   "cell_type": "code",
   "execution_count": 14,
   "id": "metric-netscape",
   "metadata": {},
   "outputs": [
    {
     "name": "stdout",
     "output_type": "stream",
     "text": [
      "6/6 [==============================] - 0s 8ms/step - loss: 7.0972e-04 - mean_absolute_error: 0.0202\n"
     ]
    },
    {
     "data": {
      "text/plain": [
       "[0.000709722691681236, 0.02024652250111103]"
      ]
     },
     "execution_count": 14,
     "metadata": {},
     "output_type": "execute_result"
    }
   ],
   "source": [
    "model.evaluate(val_ds)"
   ]
  },
  {
   "cell_type": "markdown",
   "id": "behind-scene",
   "metadata": {},
   "source": [
    "The linear regression model achieves a mean absolute error of 0.0202.Let's now build an LSTM model:"
   ]
  },
  {
   "cell_type": "code",
   "execution_count": 15,
   "id": "homeless-gauge",
   "metadata": {},
   "outputs": [],
   "source": [
    "#lstm model\n",
    "model = keras.models.Sequential([\n",
    "    keras.layers.LSTM(20,return_sequences=True,input_shape=[None,1]),\n",
    "    keras.layers.LSTM(20,return_sequences=False),\n",
    "    keras.layers.Dense(1)\n",
    "])"
   ]
  },
  {
   "cell_type": "code",
   "execution_count": 16,
   "id": "ranging-meeting",
   "metadata": {
    "scrolled": true
   },
   "outputs": [
    {
     "name": "stdout",
     "output_type": "stream",
     "text": [
      "Epoch 1/20\n",
      "61/61 [==============================] - 7s 54ms/step - loss: 0.1202 - mean_absolute_error: 0.2366\n",
      "Epoch 2/20\n",
      "61/61 [==============================] - 3s 55ms/step - loss: 0.2532 - mean_absolute_error: 0.3558\n",
      "Epoch 3/20\n",
      "61/61 [==============================] - 3s 56ms/step - loss: 0.1602 - mean_absolute_error: 0.2491\n",
      "Epoch 4/20\n",
      "61/61 [==============================] - 3s 56ms/step - loss: 0.1512 - mean_absolute_error: 0.2730\n",
      "Epoch 5/20\n",
      "61/61 [==============================] - 4s 58ms/step - loss: 0.1395 - mean_absolute_error: 0.2416\n",
      "Epoch 6/20\n",
      "61/61 [==============================] - 4s 61ms/step - loss: 0.0623 - mean_absolute_error: 0.1690\n",
      "Epoch 7/20\n",
      "61/61 [==============================] - 4s 57ms/step - loss: 0.0644 - mean_absolute_error: 0.1702\n",
      "Epoch 8/20\n",
      "61/61 [==============================] - 4s 58ms/step - loss: 0.0767 - mean_absolute_error: 0.1825\n",
      "Epoch 9/20\n",
      "61/61 [==============================] - 4s 59ms/step - loss: 0.1336 - mean_absolute_error: 0.2671\n",
      "Epoch 10/20\n",
      "61/61 [==============================] - 4s 58ms/step - loss: 0.0317 - mean_absolute_error: 0.1342\n",
      "Epoch 11/20\n",
      "61/61 [==============================] - 4s 60ms/step - loss: 0.0115 - mean_absolute_error: 0.0847\n",
      "Epoch 12/20\n",
      "61/61 [==============================] - 3s 56ms/step - loss: 0.0092 - mean_absolute_error: 0.0723\n",
      "Epoch 13/20\n",
      "61/61 [==============================] - 4s 59ms/step - loss: 0.0146 - mean_absolute_error: 0.0861\n",
      "Epoch 14/20\n",
      "61/61 [==============================] - 4s 60ms/step - loss: 0.0504 - mean_absolute_error: 0.1501\n",
      "Epoch 15/20\n",
      "61/61 [==============================] - 4s 60ms/step - loss: 0.0529 - mean_absolute_error: 0.1529\n",
      "Epoch 16/20\n",
      "61/61 [==============================] - 4s 61ms/step - loss: 0.0275 - mean_absolute_error: 0.1229\n",
      "Epoch 17/20\n",
      "61/61 [==============================] - 4s 61ms/step - loss: 0.0110 - mean_absolute_error: 0.0769\n",
      "Epoch 18/20\n",
      "61/61 [==============================] - 4s 60ms/step - loss: 0.0079 - mean_absolute_error: 0.0616\n",
      "Epoch 19/20\n",
      "61/61 [==============================] - 4s 61ms/step - loss: 0.0096 - mean_absolute_error: 0.0657\n",
      "Epoch 20/20\n",
      "61/61 [==============================] - 4s 61ms/step - loss: 0.0124 - mean_absolute_error: 0.0719\n"
     ]
    }
   ],
   "source": [
    "model.compile(loss='mse',optimizer=keras.optimizers.Adam(learning_rate=0.01),\n",
    "              metrics=[keras.metrics.MeanAbsoluteError()])\n",
    "history = model.fit(train_ds,epochs=20)"
   ]
  },
  {
   "cell_type": "code",
   "execution_count": 17,
   "id": "seeing-rapid",
   "metadata": {},
   "outputs": [
    {
     "name": "stdout",
     "output_type": "stream",
     "text": [
      "6/6 [==============================] - 1s 18ms/step - loss: 1.6735e-04 - mean_absolute_error: 0.0125\n"
     ]
    }
   ],
   "source": [
    "eval_ = model.evaluate(val_ds)"
   ]
  },
  {
   "cell_type": "markdown",
   "id": "vertical-lodging",
   "metadata": {},
   "source": [
    "Our model achieves a mean absolute error of 0.0125 beating the linear regression model."
   ]
  },
  {
   "cell_type": "code",
   "execution_count": null,
   "id": "auburn-uzbekistan",
   "metadata": {},
   "outputs": [],
   "source": []
  }
 ],
 "metadata": {
  "kernelspec": {
   "display_name": "Python 3",
   "language": "python",
   "name": "python3"
  },
  "language_info": {
   "codemirror_mode": {
    "name": "ipython",
    "version": 3
   },
   "file_extension": ".py",
   "mimetype": "text/x-python",
   "name": "python",
   "nbconvert_exporter": "python",
   "pygments_lexer": "ipython3",
   "version": "3.8.5"
  },
  "toc": {
   "base_numbering": 1,
   "nav_menu": {},
   "number_sections": false,
   "sideBar": true,
   "skip_h1_title": false,
   "title_cell": "Table of Contents",
   "title_sidebar": "Contents",
   "toc_cell": false,
   "toc_position": {},
   "toc_section_display": true,
   "toc_window_display": false
  }
 },
 "nbformat": 4,
 "nbformat_minor": 5
}
